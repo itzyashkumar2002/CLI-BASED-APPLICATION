{
  "nbformat": 4,
  "nbformat_minor": 0,
  "metadata": {
    "colab": {
      "provenance": [],
      "gpuType": "T4"
    },
    "kernelspec": {
      "name": "python3",
      "display_name": "Python 3"
    },
    "language_info": {
      "name": "python"
    },
    "accelerator": "GPU"
  },
  "cells": [
    {
      "cell_type": "code",
      "source": [
        "import socket\n",
        "import datetime\n",
        "s = socket.socket(socket.AF_INET,socket.SOCK_DGRAM) # UDP - user datadram protocol\n",
        "ip_address = \"192.168.1.82\"\n",
        "# ip_address = \"127.0.01\"  . # for self\n",
        "port_no = 2525\n",
        "\n",
        "complete_address = (ip_address,port_no)\n",
        "\n",
        "s.bind(complete_address)\n",
        "print(\"HEY i am listening...\")\n",
        "\n",
        "while True:\n",
        "    file=open(\"data.txt\",\"a\")\n",
        "    message = s.recvfrom(1000)\n",
        "    message1=message[0]\n",
        "    message2=message1.decode(\"ascii\")\n",
        "    a=datetime.datetime.now()\n",
        "    t=ip_address\n",
        "    file.write(\"\\n\"+message2+\"\\t\\t\"+str(a)+\"\\t\\t\"+str(t))\n",
        "    print(message2)\n",
        "    file.close()"
      ],
      "metadata": {
        "colab": {
          "base_uri": "https://localhost:8080/",
          "height": 220
        },
        "id": "6TuHYJ4fCMSh",
        "outputId": "c295b8ce-4091-4fc2-9596-29455399bf15"
      },
      "execution_count": null,
      "outputs": [
        {
          "output_type": "error",
          "ename": "gaierror",
          "evalue": "[Errno -2] Name or service not known",
          "traceback": [
            "\u001b[0;31m---------------------------------------------------------------------------\u001b[0m",
            "\u001b[0;31mgaierror\u001b[0m                                  Traceback (most recent call last)",
            "\u001b[0;32m<ipython-input-3-34e66831872a>\u001b[0m in \u001b[0;36m<cell line: 11>\u001b[0;34m()\u001b[0m\n\u001b[1;32m      9\u001b[0m \u001b[0mcomplete_address\u001b[0m \u001b[0;34m=\u001b[0m \u001b[0;34m(\u001b[0m\u001b[0mip_address\u001b[0m\u001b[0;34m,\u001b[0m\u001b[0mport_no\u001b[0m\u001b[0;34m)\u001b[0m\u001b[0;34m\u001b[0m\u001b[0;34m\u001b[0m\u001b[0m\n\u001b[1;32m     10\u001b[0m \u001b[0;34m\u001b[0m\u001b[0m\n\u001b[0;32m---> 11\u001b[0;31m \u001b[0ms\u001b[0m\u001b[0;34m.\u001b[0m\u001b[0mbind\u001b[0m\u001b[0;34m(\u001b[0m\u001b[0mcomplete_address\u001b[0m\u001b[0;34m)\u001b[0m\u001b[0;34m\u001b[0m\u001b[0;34m\u001b[0m\u001b[0m\n\u001b[0m\u001b[1;32m     12\u001b[0m \u001b[0mprint\u001b[0m\u001b[0;34m(\u001b[0m\u001b[0;34m\"HEY i am listening...\"\u001b[0m\u001b[0;34m)\u001b[0m\u001b[0;34m\u001b[0m\u001b[0;34m\u001b[0m\u001b[0m\n\u001b[1;32m     13\u001b[0m \u001b[0;34m\u001b[0m\u001b[0m\n",
            "\u001b[0;31mgaierror\u001b[0m: [Errno -2] Name or service not known"
          ]
        }
      ]
    },
    {
      "cell_type": "code",
      "execution_count": null,
      "metadata": {
        "id": "Z36SWKiGCzbL",
        "colab": {
          "base_uri": "https://localhost:8080/",
          "height": 220
        },
        "outputId": "ab609361-d3e1-4683-9167-2e9b6ab9bab3"
      },
      "outputs": [
        {
          "output_type": "error",
          "ename": "OSError",
          "evalue": "[Errno 99] Cannot assign requested address",
          "traceback": [
            "\u001b[0;31m---------------------------------------------------------------------------\u001b[0m",
            "\u001b[0;31mOSError\u001b[0m                                   Traceback (most recent call last)",
            "\u001b[0;32m<ipython-input-2-cd0f4308339c>\u001b[0m in \u001b[0;36m<cell line: 9>\u001b[0;34m()\u001b[0m\n\u001b[1;32m      7\u001b[0m \u001b[0mcomplete_address\u001b[0m \u001b[0;34m=\u001b[0m \u001b[0;34m(\u001b[0m\u001b[0mip_address\u001b[0m\u001b[0;34m,\u001b[0m\u001b[0mport_no\u001b[0m\u001b[0;34m)\u001b[0m\u001b[0;34m\u001b[0m\u001b[0;34m\u001b[0m\u001b[0m\n\u001b[1;32m      8\u001b[0m \u001b[0;34m\u001b[0m\u001b[0m\n\u001b[0;32m----> 9\u001b[0;31m \u001b[0ms\u001b[0m\u001b[0;34m.\u001b[0m\u001b[0mbind\u001b[0m\u001b[0;34m(\u001b[0m\u001b[0mcomplete_address\u001b[0m\u001b[0;34m)\u001b[0m\u001b[0;34m\u001b[0m\u001b[0;34m\u001b[0m\u001b[0m\n\u001b[0m\u001b[1;32m     10\u001b[0m \u001b[0mprint\u001b[0m\u001b[0;34m(\u001b[0m\u001b[0;34m\"HEY  I  AMM  LISTENING..........\"\u001b[0m\u001b[0;34m)\u001b[0m\u001b[0;34m\u001b[0m\u001b[0;34m\u001b[0m\u001b[0m\n\u001b[1;32m     11\u001b[0m \u001b[0;32mwhile\u001b[0m \u001b[0mtrue\u001b[0m\u001b[0;34m:\u001b[0m\u001b[0;34m\u001b[0m\u001b[0;34m\u001b[0m\u001b[0m\n",
            "\u001b[0;31mOSError\u001b[0m: [Errno 99] Cannot assign requested address"
          ]
        }
      ],
      "source": [
        "import socket\n",
        "s = socket.socket(socket.AF_INET,socket.SOCK_DGRAM)     # Datagram Protocol (UDP) is a communications protocol for time-sensitive\n",
        "ip_address = \"192.16.1.64\"\n",
        "# ip_address=\"127.0.0.1\"        #jo akellla beta hu without any address\n",
        "\n",
        "port_no=2525                     #all have port no. same\n",
        "complete_address = (ip_address,port_no)\n",
        "\n",
        "s.bind(complete_address)\n",
        "print(\"HEY  I  AMM  LISTENING..........\")\n",
        "while true:\n",
        "\n",
        "  message = s.recvfrom(100)\n",
        "  print(message)"
      ]
    }
  ]
}