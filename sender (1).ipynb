{
  "cells": [
    {
      "cell_type": "code",
      "execution_count": null,
      "metadata": {
        "colab": {
          "background_save": true,
          "base_uri": "https://localhost:8080/"
        },
        "id": "8C-S9na9Ci58",
        "outputId": "f23c33c7-528b-4ae4-dbbc-9393f466723d"
      },
      "outputs": [
        {
          "name": "stdout",
          "output_type": "stream",
          "text": [
            "your message has been successfully sent!\n",
            "your message has been successfully sent!\n",
            "your message has been successfully sent!\n",
            "your message has been successfully sent!\n",
            "your message has been successfully sent!\n",
            "your message has been successfully sent!\n",
            "your message has been successfully sent!\n"
          ]
        }
      ],
      "source": [
        "import socket\n",
        "s = socket.socket(socket.AF_INET,socket.SOCK_DGRAM)\n",
        "\n",
        "target_ip = \"192.168.1.82\"\n",
        "# target_ip = \"127.0.0.1\"\n",
        "target_port = 2525\n",
        "\n",
        "while True:\n",
        "   message = input(\"plz enter message : \")\n",
        "   message = message.encode(\"ascii\")\n",
        "   s.sendto(message,(target_ip,target_port))\n",
        "   print(\"your message has been successfully sent!\")"
      ]
    }
  ],
  "metadata": {
    "accelerator": "GPU",
    "colab": {
      "gpuType": "T4",
      "provenance": []
    },
    "kernelspec": {
      "display_name": "Python 3",
      "name": "python3"
    },
    "language_info": {
      "name": "python"
    }
  },
  "nbformat": 4,
  "nbformat_minor": 0
}